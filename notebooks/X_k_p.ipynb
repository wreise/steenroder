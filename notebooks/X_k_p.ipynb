{
 "cells": [
  {
   "cell_type": "code",
   "execution_count": 1,
   "id": "a9aa6710",
   "metadata": {},
   "outputs": [],
   "source": [
    "%load_ext autoreload\n",
    "%autoreload 2\n",
    "\n",
    "import time\n",
    "import mrpt\n",
    "import numpy as np\n",
    "from scipy import spatial\n",
    "from sklearn.preprocessing import scale\n",
    "from sklearn.metrics import pairwise_distances\n",
    "from sklearn.neighbors import NearestNeighbors\n",
    "\n",
    "from gtda.plotting import plot_diagram\n",
    "from steenroder import *\n",
    "import gudhi\n",
    "\n",
    "from matplotlib import pyplot as plt\n",
    "\n",
    "from utils import get_complex, get_density_filtration, get_density_filtration_efficient, get_persistence"
   ]
  },
  {
   "cell_type": "code",
   "execution_count": 2,
   "id": "09b3bf74",
   "metadata": {},
   "outputs": [
    {
     "name": "stdout",
     "output_type": "stream",
     "text": [
      "(4167, 1000, 8)\n"
     ]
    }
   ],
   "source": [
    "patches = np.load(\"./../data/patches.npy\")\n",
    "print(patches.shape)\n",
    "points = patches.reshape(patches.shape[0]*patches.shape[1], -1)"
   ]
  },
  {
   "cell_type": "markdown",
   "id": "5e582ecd",
   "metadata": {},
   "source": [
    "## Sklearn NNs"
   ]
  },
  {
   "cell_type": "code",
   "execution_count": 9,
   "id": "1266669e",
   "metadata": {},
   "outputs": [],
   "source": [
    "leaf_size = 1000\n",
    "k = 100\n",
    "p = 10"
   ]
  },
  {
   "cell_type": "code",
   "execution_count": 4,
   "id": "6e7a8b03",
   "metadata": {},
   "outputs": [],
   "source": [
    "nbrs = NearestNeighbors(n_neighbors=k, algorithm='auto', leaf_size=leaf_size,\n",
    "                        n_jobs=10, )"
   ]
  },
  {
   "cell_type": "code",
   "execution_count": 5,
   "id": "4c826fe6",
   "metadata": {},
   "outputs": [
    {
     "data": {
      "text/plain": [
       "NearestNeighbors(leaf_size=1000, n_jobs=10, n_neighbors=100)"
      ]
     },
     "execution_count": 5,
     "metadata": {},
     "output_type": "execute_result"
    }
   ],
   "source": [
    "nbrs.fit(points)"
   ]
  },
  {
   "cell_type": "code",
   "execution_count": 7,
   "id": "8d3e7e85",
   "metadata": {},
   "outputs": [],
   "source": [
    "distances, neighbors = nbrs.kneighbors(points)\n",
    "## this cell took ~1hr on the Dell -> run on the cluster next time?"
   ]
  },
  {
   "cell_type": "code",
   "execution_count": 20,
   "id": "1bf40a62",
   "metadata": {},
   "outputs": [],
   "source": [
    "kth_distance = distances[:, k-1]\n",
    "kth_index = np.argsort(kth_distance)[:len(distances)//p]\n",
    "x_k_p = points[kth_index, :]"
   ]
  },
  {
   "cell_type": "code",
   "execution_count": 21,
   "id": "5d7d8213",
   "metadata": {},
   "outputs": [],
   "source": [
    "np.save(\"./../data/M_100_10.npy\", x_k_p)"
   ]
  },
  {
   "cell_type": "markdown",
   "id": "c992c331",
   "metadata": {},
   "source": [
    "### Compute $Q$"
   ]
  },
  {
   "cell_type": "code",
   "execution_count": 4,
   "id": "4d0a0117",
   "metadata": {},
   "outputs": [],
   "source": [
    "patches = np.load(\"./../data/M_100_10.npy\")\n",
    "\n",
    "points = patches\n",
    "q_bar_new_basis = np.load(\"./../data/Q_bar_big_neighborhood.npy\")\n",
    "closest_indices = np.argmin(spatial.distance.cdist(q_bar_new_basis, points), axis=1)\n",
    "closest_points = points[closest_indices]\n",
    "\n",
    "np.save(\"./../data/Q_from_M_100_10.npy\", closest_points)"
   ]
  },
  {
   "cell_type": "markdown",
   "id": "7ac7abdd",
   "metadata": {},
   "source": [
    "## Sklearn NNs with cosine"
   ]
  },
  {
   "cell_type": "code",
   "execution_count": 3,
   "id": "7b44621c",
   "metadata": {},
   "outputs": [],
   "source": [
    "leaf_size = 1000\n",
    "k = 100\n",
    "p = 10"
   ]
  },
  {
   "cell_type": "code",
   "execution_count": 4,
   "id": "27c8d635",
   "metadata": {},
   "outputs": [],
   "source": [
    "nbrs = NearestNeighbors(n_neighbors=k, algorithm='auto', leaf_size=leaf_size,\n",
    "                        n_jobs=10, metric=\"cosine\")"
   ]
  },
  {
   "cell_type": "code",
   "execution_count": 5,
   "id": "1bdee144",
   "metadata": {},
   "outputs": [
    {
     "data": {
      "text/plain": [
       "NearestNeighbors(leaf_size=1000, metric='cosine', n_jobs=10, n_neighbors=100)"
      ]
     },
     "execution_count": 5,
     "metadata": {},
     "output_type": "execute_result"
    }
   ],
   "source": [
    "nbrs.fit(points)"
   ]
  },
  {
   "cell_type": "code",
   "execution_count": 6,
   "id": "174b1d5f",
   "metadata": {
    "scrolled": true
   },
   "outputs": [
    {
     "ename": "KeyboardInterrupt",
     "evalue": "",
     "output_type": "error",
     "traceback": [
      "\u001b[0;31m---------------------------------------------------------------------------\u001b[0m",
      "\u001b[0;31mKeyboardInterrupt\u001b[0m                         Traceback (most recent call last)",
      "\u001b[0;32m<ipython-input-6-4c832b39e927>\u001b[0m in \u001b[0;36m<module>\u001b[0;34m\u001b[0m\n\u001b[0;32m----> 1\u001b[0;31m \u001b[0mdistances\u001b[0m\u001b[0;34m,\u001b[0m \u001b[0mneighbors\u001b[0m \u001b[0;34m=\u001b[0m \u001b[0mnbrs\u001b[0m\u001b[0;34m.\u001b[0m\u001b[0mkneighbors\u001b[0m\u001b[0;34m(\u001b[0m\u001b[0mpoints\u001b[0m\u001b[0;34m)\u001b[0m\u001b[0;34m\u001b[0m\u001b[0;34m\u001b[0m\u001b[0m\n\u001b[0m\u001b[1;32m      2\u001b[0m \u001b[0;31m## this cell took ~1hr on the Dell -> run on the cluster next time?\u001b[0m\u001b[0;34m\u001b[0m\u001b[0;34m\u001b[0m\u001b[0;34m\u001b[0m\u001b[0m\n",
      "\u001b[0;32m~/snap/miniconda3/envs/steenroder/lib/python3.8/site-packages/sklearn/neighbors/_base.py\u001b[0m in \u001b[0;36mkneighbors\u001b[0;34m(self, X, n_neighbors, return_distance)\u001b[0m\n\u001b[1;32m    703\u001b[0m                 \u001b[0mkwds\u001b[0m \u001b[0;34m=\u001b[0m \u001b[0mself\u001b[0m\u001b[0;34m.\u001b[0m\u001b[0meffective_metric_params_\u001b[0m\u001b[0;34m\u001b[0m\u001b[0;34m\u001b[0m\u001b[0m\n\u001b[1;32m    704\u001b[0m \u001b[0;34m\u001b[0m\u001b[0m\n\u001b[0;32m--> 705\u001b[0;31m             chunked_results = list(pairwise_distances_chunked(\n\u001b[0m\u001b[1;32m    706\u001b[0m                 \u001b[0mX\u001b[0m\u001b[0;34m,\u001b[0m \u001b[0mself\u001b[0m\u001b[0;34m.\u001b[0m\u001b[0m_fit_X\u001b[0m\u001b[0;34m,\u001b[0m \u001b[0mreduce_func\u001b[0m\u001b[0;34m=\u001b[0m\u001b[0mreduce_func\u001b[0m\u001b[0;34m,\u001b[0m\u001b[0;34m\u001b[0m\u001b[0;34m\u001b[0m\u001b[0m\n\u001b[1;32m    707\u001b[0m                 \u001b[0mmetric\u001b[0m\u001b[0;34m=\u001b[0m\u001b[0mself\u001b[0m\u001b[0;34m.\u001b[0m\u001b[0meffective_metric_\u001b[0m\u001b[0;34m,\u001b[0m \u001b[0mn_jobs\u001b[0m\u001b[0;34m=\u001b[0m\u001b[0mn_jobs\u001b[0m\u001b[0;34m,\u001b[0m\u001b[0;34m\u001b[0m\u001b[0;34m\u001b[0m\u001b[0m\n",
      "\u001b[0;32m~/snap/miniconda3/envs/steenroder/lib/python3.8/site-packages/sklearn/metrics/pairwise.py\u001b[0m in \u001b[0;36mpairwise_distances_chunked\u001b[0;34m(X, Y, reduce_func, metric, n_jobs, working_memory, **kwds)\u001b[0m\n\u001b[1;32m   1621\u001b[0m         \u001b[0;32melse\u001b[0m\u001b[0;34m:\u001b[0m\u001b[0;34m\u001b[0m\u001b[0;34m\u001b[0m\u001b[0m\n\u001b[1;32m   1622\u001b[0m             \u001b[0mX_chunk\u001b[0m \u001b[0;34m=\u001b[0m \u001b[0mX\u001b[0m\u001b[0;34m[\u001b[0m\u001b[0msl\u001b[0m\u001b[0;34m]\u001b[0m\u001b[0;34m\u001b[0m\u001b[0;34m\u001b[0m\u001b[0m\n\u001b[0;32m-> 1623\u001b[0;31m         D_chunk = pairwise_distances(X_chunk, Y, metric=metric,\n\u001b[0m\u001b[1;32m   1624\u001b[0m                                      n_jobs=n_jobs, **kwds)\n\u001b[1;32m   1625\u001b[0m         if ((X is Y or Y is None)\n",
      "\u001b[0;32m~/snap/miniconda3/envs/steenroder/lib/python3.8/site-packages/sklearn/utils/validation.py\u001b[0m in \u001b[0;36minner_f\u001b[0;34m(*args, **kwargs)\u001b[0m\n\u001b[1;32m     61\u001b[0m             \u001b[0mextra_args\u001b[0m \u001b[0;34m=\u001b[0m \u001b[0mlen\u001b[0m\u001b[0;34m(\u001b[0m\u001b[0margs\u001b[0m\u001b[0;34m)\u001b[0m \u001b[0;34m-\u001b[0m \u001b[0mlen\u001b[0m\u001b[0;34m(\u001b[0m\u001b[0mall_args\u001b[0m\u001b[0;34m)\u001b[0m\u001b[0;34m\u001b[0m\u001b[0;34m\u001b[0m\u001b[0m\n\u001b[1;32m     62\u001b[0m             \u001b[0;32mif\u001b[0m \u001b[0mextra_args\u001b[0m \u001b[0;34m<=\u001b[0m \u001b[0;36m0\u001b[0m\u001b[0;34m:\u001b[0m\u001b[0;34m\u001b[0m\u001b[0;34m\u001b[0m\u001b[0m\n\u001b[0;32m---> 63\u001b[0;31m                 \u001b[0;32mreturn\u001b[0m \u001b[0mf\u001b[0m\u001b[0;34m(\u001b[0m\u001b[0;34m*\u001b[0m\u001b[0margs\u001b[0m\u001b[0;34m,\u001b[0m \u001b[0;34m**\u001b[0m\u001b[0mkwargs\u001b[0m\u001b[0;34m)\u001b[0m\u001b[0;34m\u001b[0m\u001b[0;34m\u001b[0m\u001b[0m\n\u001b[0m\u001b[1;32m     64\u001b[0m \u001b[0;34m\u001b[0m\u001b[0m\n\u001b[1;32m     65\u001b[0m             \u001b[0;31m# extra_args > 0\u001b[0m\u001b[0;34m\u001b[0m\u001b[0;34m\u001b[0m\u001b[0;34m\u001b[0m\u001b[0m\n",
      "\u001b[0;32m~/snap/miniconda3/envs/steenroder/lib/python3.8/site-packages/sklearn/metrics/pairwise.py\u001b[0m in \u001b[0;36mpairwise_distances\u001b[0;34m(X, Y, metric, n_jobs, force_all_finite, **kwds)\u001b[0m\n\u001b[1;32m   1788\u001b[0m         \u001b[0mfunc\u001b[0m \u001b[0;34m=\u001b[0m \u001b[0mpartial\u001b[0m\u001b[0;34m(\u001b[0m\u001b[0mdistance\u001b[0m\u001b[0;34m.\u001b[0m\u001b[0mcdist\u001b[0m\u001b[0;34m,\u001b[0m \u001b[0mmetric\u001b[0m\u001b[0;34m=\u001b[0m\u001b[0mmetric\u001b[0m\u001b[0;34m,\u001b[0m \u001b[0;34m**\u001b[0m\u001b[0mkwds\u001b[0m\u001b[0;34m)\u001b[0m\u001b[0;34m\u001b[0m\u001b[0;34m\u001b[0m\u001b[0m\n\u001b[1;32m   1789\u001b[0m \u001b[0;34m\u001b[0m\u001b[0m\n\u001b[0;32m-> 1790\u001b[0;31m     \u001b[0;32mreturn\u001b[0m \u001b[0m_parallel_pairwise\u001b[0m\u001b[0;34m(\u001b[0m\u001b[0mX\u001b[0m\u001b[0;34m,\u001b[0m \u001b[0mY\u001b[0m\u001b[0;34m,\u001b[0m \u001b[0mfunc\u001b[0m\u001b[0;34m,\u001b[0m \u001b[0mn_jobs\u001b[0m\u001b[0;34m,\u001b[0m \u001b[0;34m**\u001b[0m\u001b[0mkwds\u001b[0m\u001b[0;34m)\u001b[0m\u001b[0;34m\u001b[0m\u001b[0;34m\u001b[0m\u001b[0m\n\u001b[0m\u001b[1;32m   1791\u001b[0m \u001b[0;34m\u001b[0m\u001b[0m\n\u001b[1;32m   1792\u001b[0m \u001b[0;34m\u001b[0m\u001b[0m\n",
      "\u001b[0;32m~/snap/miniconda3/envs/steenroder/lib/python3.8/site-packages/sklearn/metrics/pairwise.py\u001b[0m in \u001b[0;36m_parallel_pairwise\u001b[0;34m(X, Y, func, n_jobs, **kwds)\u001b[0m\n\u001b[1;32m   1362\u001b[0m     \u001b[0mfd\u001b[0m \u001b[0;34m=\u001b[0m \u001b[0mdelayed\u001b[0m\u001b[0;34m(\u001b[0m\u001b[0m_dist_wrapper\u001b[0m\u001b[0;34m)\u001b[0m\u001b[0;34m\u001b[0m\u001b[0;34m\u001b[0m\u001b[0m\n\u001b[1;32m   1363\u001b[0m     \u001b[0mret\u001b[0m \u001b[0;34m=\u001b[0m \u001b[0mnp\u001b[0m\u001b[0;34m.\u001b[0m\u001b[0mempty\u001b[0m\u001b[0;34m(\u001b[0m\u001b[0;34m(\u001b[0m\u001b[0mX\u001b[0m\u001b[0;34m.\u001b[0m\u001b[0mshape\u001b[0m\u001b[0;34m[\u001b[0m\u001b[0;36m0\u001b[0m\u001b[0;34m]\u001b[0m\u001b[0;34m,\u001b[0m \u001b[0mY\u001b[0m\u001b[0;34m.\u001b[0m\u001b[0mshape\u001b[0m\u001b[0;34m[\u001b[0m\u001b[0;36m0\u001b[0m\u001b[0;34m]\u001b[0m\u001b[0;34m)\u001b[0m\u001b[0;34m,\u001b[0m \u001b[0mdtype\u001b[0m\u001b[0;34m=\u001b[0m\u001b[0mdtype\u001b[0m\u001b[0;34m,\u001b[0m \u001b[0morder\u001b[0m\u001b[0;34m=\u001b[0m\u001b[0;34m'F'\u001b[0m\u001b[0;34m)\u001b[0m\u001b[0;34m\u001b[0m\u001b[0;34m\u001b[0m\u001b[0m\n\u001b[0;32m-> 1364\u001b[0;31m     Parallel(backend=\"threading\", n_jobs=n_jobs)(\n\u001b[0m\u001b[1;32m   1365\u001b[0m         \u001b[0mfd\u001b[0m\u001b[0;34m(\u001b[0m\u001b[0mfunc\u001b[0m\u001b[0;34m,\u001b[0m \u001b[0mret\u001b[0m\u001b[0;34m,\u001b[0m \u001b[0ms\u001b[0m\u001b[0;34m,\u001b[0m \u001b[0mX\u001b[0m\u001b[0;34m,\u001b[0m \u001b[0mY\u001b[0m\u001b[0;34m[\u001b[0m\u001b[0ms\u001b[0m\u001b[0;34m]\u001b[0m\u001b[0;34m,\u001b[0m \u001b[0;34m**\u001b[0m\u001b[0mkwds\u001b[0m\u001b[0;34m)\u001b[0m\u001b[0;34m\u001b[0m\u001b[0;34m\u001b[0m\u001b[0m\n\u001b[1;32m   1366\u001b[0m         for s in gen_even_slices(_num_samples(Y), effective_n_jobs(n_jobs)))\n",
      "\u001b[0;32m~/snap/miniconda3/envs/steenroder/lib/python3.8/site-packages/joblib/parallel.py\u001b[0m in \u001b[0;36m__call__\u001b[0;34m(self, iterable)\u001b[0m\n\u001b[1;32m   1052\u001b[0m \u001b[0;34m\u001b[0m\u001b[0m\n\u001b[1;32m   1053\u001b[0m             \u001b[0;32mwith\u001b[0m \u001b[0mself\u001b[0m\u001b[0;34m.\u001b[0m\u001b[0m_backend\u001b[0m\u001b[0;34m.\u001b[0m\u001b[0mretrieval_context\u001b[0m\u001b[0;34m(\u001b[0m\u001b[0;34m)\u001b[0m\u001b[0;34m:\u001b[0m\u001b[0;34m\u001b[0m\u001b[0;34m\u001b[0m\u001b[0m\n\u001b[0;32m-> 1054\u001b[0;31m                 \u001b[0mself\u001b[0m\u001b[0;34m.\u001b[0m\u001b[0mretrieve\u001b[0m\u001b[0;34m(\u001b[0m\u001b[0;34m)\u001b[0m\u001b[0;34m\u001b[0m\u001b[0;34m\u001b[0m\u001b[0m\n\u001b[0m\u001b[1;32m   1055\u001b[0m             \u001b[0;31m# Make sure that we get a last message telling us we are done\u001b[0m\u001b[0;34m\u001b[0m\u001b[0;34m\u001b[0m\u001b[0;34m\u001b[0m\u001b[0m\n\u001b[1;32m   1056\u001b[0m             \u001b[0melapsed_time\u001b[0m \u001b[0;34m=\u001b[0m \u001b[0mtime\u001b[0m\u001b[0;34m.\u001b[0m\u001b[0mtime\u001b[0m\u001b[0;34m(\u001b[0m\u001b[0;34m)\u001b[0m \u001b[0;34m-\u001b[0m \u001b[0mself\u001b[0m\u001b[0;34m.\u001b[0m\u001b[0m_start_time\u001b[0m\u001b[0;34m\u001b[0m\u001b[0;34m\u001b[0m\u001b[0m\n",
      "\u001b[0;32m~/snap/miniconda3/envs/steenroder/lib/python3.8/site-packages/joblib/parallel.py\u001b[0m in \u001b[0;36mretrieve\u001b[0;34m(self)\u001b[0m\n\u001b[1;32m    931\u001b[0m             \u001b[0;32mtry\u001b[0m\u001b[0;34m:\u001b[0m\u001b[0;34m\u001b[0m\u001b[0;34m\u001b[0m\u001b[0m\n\u001b[1;32m    932\u001b[0m                 \u001b[0;32mif\u001b[0m \u001b[0mgetattr\u001b[0m\u001b[0;34m(\u001b[0m\u001b[0mself\u001b[0m\u001b[0;34m.\u001b[0m\u001b[0m_backend\u001b[0m\u001b[0;34m,\u001b[0m \u001b[0;34m'supports_timeout'\u001b[0m\u001b[0;34m,\u001b[0m \u001b[0;32mFalse\u001b[0m\u001b[0;34m)\u001b[0m\u001b[0;34m:\u001b[0m\u001b[0;34m\u001b[0m\u001b[0;34m\u001b[0m\u001b[0m\n\u001b[0;32m--> 933\u001b[0;31m                     \u001b[0mself\u001b[0m\u001b[0;34m.\u001b[0m\u001b[0m_output\u001b[0m\u001b[0;34m.\u001b[0m\u001b[0mextend\u001b[0m\u001b[0;34m(\u001b[0m\u001b[0mjob\u001b[0m\u001b[0;34m.\u001b[0m\u001b[0mget\u001b[0m\u001b[0;34m(\u001b[0m\u001b[0mtimeout\u001b[0m\u001b[0;34m=\u001b[0m\u001b[0mself\u001b[0m\u001b[0;34m.\u001b[0m\u001b[0mtimeout\u001b[0m\u001b[0;34m)\u001b[0m\u001b[0;34m)\u001b[0m\u001b[0;34m\u001b[0m\u001b[0;34m\u001b[0m\u001b[0m\n\u001b[0m\u001b[1;32m    934\u001b[0m                 \u001b[0;32melse\u001b[0m\u001b[0;34m:\u001b[0m\u001b[0;34m\u001b[0m\u001b[0;34m\u001b[0m\u001b[0m\n\u001b[1;32m    935\u001b[0m                     \u001b[0mself\u001b[0m\u001b[0;34m.\u001b[0m\u001b[0m_output\u001b[0m\u001b[0;34m.\u001b[0m\u001b[0mextend\u001b[0m\u001b[0;34m(\u001b[0m\u001b[0mjob\u001b[0m\u001b[0;34m.\u001b[0m\u001b[0mget\u001b[0m\u001b[0;34m(\u001b[0m\u001b[0;34m)\u001b[0m\u001b[0;34m)\u001b[0m\u001b[0;34m\u001b[0m\u001b[0;34m\u001b[0m\u001b[0m\n",
      "\u001b[0;32m~/snap/miniconda3/envs/steenroder/lib/python3.8/multiprocessing/pool.py\u001b[0m in \u001b[0;36mget\u001b[0;34m(self, timeout)\u001b[0m\n\u001b[1;32m    763\u001b[0m \u001b[0;34m\u001b[0m\u001b[0m\n\u001b[1;32m    764\u001b[0m     \u001b[0;32mdef\u001b[0m \u001b[0mget\u001b[0m\u001b[0;34m(\u001b[0m\u001b[0mself\u001b[0m\u001b[0;34m,\u001b[0m \u001b[0mtimeout\u001b[0m\u001b[0;34m=\u001b[0m\u001b[0;32mNone\u001b[0m\u001b[0;34m)\u001b[0m\u001b[0;34m:\u001b[0m\u001b[0;34m\u001b[0m\u001b[0;34m\u001b[0m\u001b[0m\n\u001b[0;32m--> 765\u001b[0;31m         \u001b[0mself\u001b[0m\u001b[0;34m.\u001b[0m\u001b[0mwait\u001b[0m\u001b[0;34m(\u001b[0m\u001b[0mtimeout\u001b[0m\u001b[0;34m)\u001b[0m\u001b[0;34m\u001b[0m\u001b[0;34m\u001b[0m\u001b[0m\n\u001b[0m\u001b[1;32m    766\u001b[0m         \u001b[0;32mif\u001b[0m \u001b[0;32mnot\u001b[0m \u001b[0mself\u001b[0m\u001b[0;34m.\u001b[0m\u001b[0mready\u001b[0m\u001b[0;34m(\u001b[0m\u001b[0;34m)\u001b[0m\u001b[0;34m:\u001b[0m\u001b[0;34m\u001b[0m\u001b[0;34m\u001b[0m\u001b[0m\n\u001b[1;32m    767\u001b[0m             \u001b[0;32mraise\u001b[0m \u001b[0mTimeoutError\u001b[0m\u001b[0;34m\u001b[0m\u001b[0;34m\u001b[0m\u001b[0m\n",
      "\u001b[0;32m~/snap/miniconda3/envs/steenroder/lib/python3.8/multiprocessing/pool.py\u001b[0m in \u001b[0;36mwait\u001b[0;34m(self, timeout)\u001b[0m\n\u001b[1;32m    760\u001b[0m \u001b[0;34m\u001b[0m\u001b[0m\n\u001b[1;32m    761\u001b[0m     \u001b[0;32mdef\u001b[0m \u001b[0mwait\u001b[0m\u001b[0;34m(\u001b[0m\u001b[0mself\u001b[0m\u001b[0;34m,\u001b[0m \u001b[0mtimeout\u001b[0m\u001b[0;34m=\u001b[0m\u001b[0;32mNone\u001b[0m\u001b[0;34m)\u001b[0m\u001b[0;34m:\u001b[0m\u001b[0;34m\u001b[0m\u001b[0;34m\u001b[0m\u001b[0m\n\u001b[0;32m--> 762\u001b[0;31m         \u001b[0mself\u001b[0m\u001b[0;34m.\u001b[0m\u001b[0m_event\u001b[0m\u001b[0;34m.\u001b[0m\u001b[0mwait\u001b[0m\u001b[0;34m(\u001b[0m\u001b[0mtimeout\u001b[0m\u001b[0;34m)\u001b[0m\u001b[0;34m\u001b[0m\u001b[0;34m\u001b[0m\u001b[0m\n\u001b[0m\u001b[1;32m    763\u001b[0m \u001b[0;34m\u001b[0m\u001b[0m\n\u001b[1;32m    764\u001b[0m     \u001b[0;32mdef\u001b[0m \u001b[0mget\u001b[0m\u001b[0;34m(\u001b[0m\u001b[0mself\u001b[0m\u001b[0;34m,\u001b[0m \u001b[0mtimeout\u001b[0m\u001b[0;34m=\u001b[0m\u001b[0;32mNone\u001b[0m\u001b[0;34m)\u001b[0m\u001b[0;34m:\u001b[0m\u001b[0;34m\u001b[0m\u001b[0;34m\u001b[0m\u001b[0m\n",
      "\u001b[0;32m~/snap/miniconda3/envs/steenroder/lib/python3.8/threading.py\u001b[0m in \u001b[0;36mwait\u001b[0;34m(self, timeout)\u001b[0m\n\u001b[1;32m    556\u001b[0m             \u001b[0msignaled\u001b[0m \u001b[0;34m=\u001b[0m \u001b[0mself\u001b[0m\u001b[0;34m.\u001b[0m\u001b[0m_flag\u001b[0m\u001b[0;34m\u001b[0m\u001b[0;34m\u001b[0m\u001b[0m\n\u001b[1;32m    557\u001b[0m             \u001b[0;32mif\u001b[0m \u001b[0;32mnot\u001b[0m \u001b[0msignaled\u001b[0m\u001b[0;34m:\u001b[0m\u001b[0;34m\u001b[0m\u001b[0;34m\u001b[0m\u001b[0m\n\u001b[0;32m--> 558\u001b[0;31m                 \u001b[0msignaled\u001b[0m \u001b[0;34m=\u001b[0m \u001b[0mself\u001b[0m\u001b[0;34m.\u001b[0m\u001b[0m_cond\u001b[0m\u001b[0;34m.\u001b[0m\u001b[0mwait\u001b[0m\u001b[0;34m(\u001b[0m\u001b[0mtimeout\u001b[0m\u001b[0;34m)\u001b[0m\u001b[0;34m\u001b[0m\u001b[0;34m\u001b[0m\u001b[0m\n\u001b[0m\u001b[1;32m    559\u001b[0m             \u001b[0;32mreturn\u001b[0m \u001b[0msignaled\u001b[0m\u001b[0;34m\u001b[0m\u001b[0;34m\u001b[0m\u001b[0m\n\u001b[1;32m    560\u001b[0m \u001b[0;34m\u001b[0m\u001b[0m\n",
      "\u001b[0;32m~/snap/miniconda3/envs/steenroder/lib/python3.8/threading.py\u001b[0m in \u001b[0;36mwait\u001b[0;34m(self, timeout)\u001b[0m\n\u001b[1;32m    300\u001b[0m         \u001b[0;32mtry\u001b[0m\u001b[0;34m:\u001b[0m    \u001b[0;31m# restore state no matter what (e.g., KeyboardInterrupt)\u001b[0m\u001b[0;34m\u001b[0m\u001b[0;34m\u001b[0m\u001b[0m\n\u001b[1;32m    301\u001b[0m             \u001b[0;32mif\u001b[0m \u001b[0mtimeout\u001b[0m \u001b[0;32mis\u001b[0m \u001b[0;32mNone\u001b[0m\u001b[0;34m:\u001b[0m\u001b[0;34m\u001b[0m\u001b[0;34m\u001b[0m\u001b[0m\n\u001b[0;32m--> 302\u001b[0;31m                 \u001b[0mwaiter\u001b[0m\u001b[0;34m.\u001b[0m\u001b[0macquire\u001b[0m\u001b[0;34m(\u001b[0m\u001b[0;34m)\u001b[0m\u001b[0;34m\u001b[0m\u001b[0;34m\u001b[0m\u001b[0m\n\u001b[0m\u001b[1;32m    303\u001b[0m                 \u001b[0mgotit\u001b[0m \u001b[0;34m=\u001b[0m \u001b[0;32mTrue\u001b[0m\u001b[0;34m\u001b[0m\u001b[0;34m\u001b[0m\u001b[0m\n\u001b[1;32m    304\u001b[0m             \u001b[0;32melse\u001b[0m\u001b[0;34m:\u001b[0m\u001b[0;34m\u001b[0m\u001b[0;34m\u001b[0m\u001b[0m\n",
      "\u001b[0;31mKeyboardInterrupt\u001b[0m: "
     ]
    }
   ],
   "source": [
    "distances, neighbors = nbrs.kneighbors(points)\n",
    "## this cell took ~1hr on the Dell -> run on the cluster next time?"
   ]
  },
  {
   "cell_type": "code",
   "execution_count": null,
   "id": "d8929364",
   "metadata": {},
   "outputs": [],
   "source": [
    "kth_distance = distances[:, k-1]\n",
    "kth_index = np.argsort(kth_distance)[:len(distances)//p]\n",
    "x_k_p = points[kth_index, :]"
   ]
  },
  {
   "cell_type": "code",
   "execution_count": null,
   "id": "9a57f4d1",
   "metadata": {},
   "outputs": [],
   "source": [
    "np.save(\"./../data/M_100_10_cosine.npy\", x_k_p)"
   ]
  },
  {
   "cell_type": "markdown",
   "id": "29c88b4e",
   "metadata": {},
   "source": [
    "## Approximate"
   ]
  },
  {
   "cell_type": "code",
   "execution_count": null,
   "id": "897ce997",
   "metadata": {},
   "outputs": [],
   "source": [
    "k = 100\n",
    "target_recall = 0.9"
   ]
  },
  {
   "cell_type": "code",
   "execution_count": 4,
   "id": "0daabf66",
   "metadata": {},
   "outputs": [],
   "source": [
    "points = points.astype('float32')"
   ]
  },
  {
   "cell_type": "code",
   "execution_count": 8,
   "id": "ac423ef6",
   "metadata": {},
   "outputs": [],
   "source": [
    "index = mrpt.MRPTIndex(points)\n",
    "\n",
    "index.build_autotune_sample(target_recall, k+1)\n",
    "\n",
    "# Don't run this anymore! index.save(f\"./../data/mrpti_{k}_index\")"
   ]
  },
  {
   "cell_type": "code",
   "execution_count": 9,
   "id": "79f75aea",
   "metadata": {},
   "outputs": [
    {
     "name": "stdout",
     "output_type": "stream",
     "text": [
      "[[      0 1520014 3756022 3445013  375494   46443  387167 3894172 2951342\n",
      "  1000002 1966042 1394011 1501246 1560088  209299  825119  129520 2494009\n",
      "  1665034 1268233 1930008  917244 1928114  387416  251016 2616114 3925414\n",
      "  3269092 2908067 3503252 3294021 4118002 2578195 3815025 3068507 3401209\n",
      "  2063021 2780616 2920191 3120214  355285 2554065 1853008 2394034  674120\n",
      "   780311 1558104  969735 2434021 2381694 1675230 1258193 2039078 1960338\n",
      "  2263226  124514 3311122  463147 1877040 3669023 1928110 1338005  387273\n",
      "  3938498 1654030 3853021  620013 2941006 3894026 3473576 1810288 3389190\n",
      "  3057062 2514030   10006 3374209 3488011  830127   57222  135216 1675290\n",
      "  1982075 3863031 2970508 3306047 1982072  433031 3651048  126048 3272337\n",
      "  1123232 2653299 1527182 2686114   73751 1153359 1589378  360115 2617165\n",
      "  2853083  402195]\n",
      " [      1  519441 3012003  885151 3821020 2208264 2518244 3151419 3607039\n",
      "  3083131 1760103 1833815 3415064 1694365 1520029 2970656  837951 3420053\n",
      "   387352  402161  644715   36117 2379098  961308 3121135 1820027  402119\n",
      "  1216059 3875420 3170036  208088 1098202 3062586 2111131 1688039 1931052\n",
      "  2071074 2461164 3843130 2598279 1799031 1753577 3503473  881708 3335054\n",
      "   939213 1621082 1955486 1563003  344026 2312065  691117    3102 1098181\n",
      "   106303 2252254  787821 1907062  931002 2799525  686442 3573269 2610192\n",
      "  2146417 2021063 2111148 3077219 2229546 1838140 1960429 2263305 3306211\n",
      "  2147082 3998000  222342 2363703 1364533  351257 1907158 3551015  513199\n",
      "  1671223 3355509 3537871  463515 1909318 1520060  742210 3655231  516204\n",
      "  1062146  964064  815449 1725679  331470 2402066 3782309 2277860 2371384\n",
      "  3537387 1723069]\n",
      " [      2  224016 2996710 4144626 2012143 2525071  418734 3815164 2383152\n",
      "  3482262 3316421 1602182 3187047 3804595 1810509 2082967 1931125 1897141\n",
      "  1931117 1134130  151108  738332 2331669 2617882 2169080   75072 2470828\n",
      "  3842540 2902092 3724371 2740217 2083347 3219030 3206225  354080 1111281\n",
      "   193196  893032 3165073 3571391 1349514 1349513  433085  926044 1337495\n",
      "   647171   40361 1028282 1961183 3517286 1448079 2141489  469881 2871347\n",
      "  3000481 2803157    5530 2990732 3116208 2414073 4031029 3197086 3259099\n",
      "  1395320 2692151 3299418 3007292 3120763 3410496 4067265  168031  381079\n",
      "   598799 2247029 1654172 2228230 1212174 1437107 4098257 1560770  248472\n",
      "  2247014  741411 3229828 3414357 1018358 2661304 2340905 1144057  341122\n",
      "  2747749 1697659  122482 1492083  598830 1826023 1230113 3160098 2265256\n",
      "  1662036 2428953]]\n"
     ]
    }
   ],
   "source": [
    "print(index.ann(points[0:3], return_distances=False))"
   ]
  },
  {
   "cell_type": "code",
   "execution_count": 5,
   "id": "e4380e1f",
   "metadata": {},
   "outputs": [],
   "source": [
    "index = mrpt.MRPTIndex(points)\n",
    "\n",
    "index.load(f\"./../data/mrpti_{k}_index\")"
   ]
  },
  {
   "cell_type": "code",
   "execution_count": 6,
   "id": "a950c391",
   "metadata": {},
   "outputs": [],
   "source": [
    "kth_neighbors = index.ann(points, return_distances=False)[:, k]"
   ]
  },
  {
   "cell_type": "code",
   "execution_count": 7,
   "id": "aaed0368",
   "metadata": {},
   "outputs": [],
   "source": [
    "np.save(\"./../data/M_100_10_neighbors.npy\", kth_neighbors)"
   ]
  },
  {
   "cell_type": "code",
   "execution_count": 15,
   "id": "8cf7c48a",
   "metadata": {},
   "outputs": [],
   "source": [
    "v = points - points[kth_neighbors]\n",
    "distances = np.sum(v**2, axis=1)\n",
    "top_10_indices = np.argsort(distances)[:len(distances)//10]\n",
    "m_100_10 = points[top_10_indices]"
   ]
  },
  {
   "cell_type": "code",
   "execution_count": 18,
   "id": "886e6d39",
   "metadata": {},
   "outputs": [],
   "source": [
    "np.save(\"./../data/M_100_10.npy\", m_100_10)"
   ]
  },
  {
   "cell_type": "code",
   "execution_count": null,
   "id": "c05bfaff",
   "metadata": {},
   "outputs": [],
   "source": []
  }
 ],
 "metadata": {
  "kernelspec": {
   "display_name": "Python 3",
   "language": "python",
   "name": "python3"
  },
  "language_info": {
   "codemirror_mode": {
    "name": "ipython",
    "version": 3
   },
   "file_extension": ".py",
   "mimetype": "text/x-python",
   "name": "python",
   "nbconvert_exporter": "python",
   "pygments_lexer": "ipython3",
   "version": "3.8.8"
  }
 },
 "nbformat": 4,
 "nbformat_minor": 5
}
